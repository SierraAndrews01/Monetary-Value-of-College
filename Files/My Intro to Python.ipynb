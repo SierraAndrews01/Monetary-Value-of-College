{
 "cells": [
  {
   "cell_type": "code",
   "execution_count": 1,
   "id": "7ab5000b",
   "metadata": {},
   "outputs": [
    {
     "name": "stdout",
     "output_type": "stream",
     "text": [
      "Hello world\n"
     ]
    }
   ],
   "source": [
    "print('Hello world')"
   ]
  },
  {
   "cell_type": "code",
   "execution_count": 5,
   "id": "d4a788fc",
   "metadata": {},
   "outputs": [
    {
     "name": "stdout",
     "output_type": "stream",
     "text": [
      "5\n",
      "6\n",
      "7\n",
      "8\n",
      "9\n"
     ]
    }
   ],
   "source": [
    " x = 5\n",
    "for i in range (0, 5):\n",
    "        print (x + i)"
   ]
  },
  {
   "cell_type": "code",
   "execution_count": 7,
   "id": "19d0afe8",
   "metadata": {},
   "outputs": [],
   "source": [
    "import pandas as pd"
   ]
  },
  {
   "cell_type": "code",
   "execution_count": 14,
   "id": "ce3c54fb",
   "metadata": {
    "scrolled": true
   },
   "outputs": [
    {
     "data": {
      "text/html": [
       "<div>\n",
       "<style scoped>\n",
       "    .dataframe tbody tr th:only-of-type {\n",
       "        vertical-align: middle;\n",
       "    }\n",
       "\n",
       "    .dataframe tbody tr th {\n",
       "        vertical-align: top;\n",
       "    }\n",
       "\n",
       "    .dataframe thead th {\n",
       "        text-align: right;\n",
       "    }\n",
       "</style>\n",
       "<table border=\"1\" class=\"dataframe\">\n",
       "  <thead>\n",
       "    <tr style=\"text-align: right;\">\n",
       "      <th></th>\n",
       "      <th>1</th>\n",
       "      <th>2</th>\n",
       "      <th>3</th>\n",
       "      <th>4</th>\n",
       "      <th>5</th>\n",
       "      <th>6</th>\n",
       "      <th>7</th>\n",
       "      <th>8</th>\n",
       "      <th>9</th>\n",
       "      <th>10</th>\n",
       "      <th>...</th>\n",
       "      <th>16</th>\n",
       "      <th>17</th>\n",
       "      <th>18</th>\n",
       "      <th>19</th>\n",
       "      <th>20</th>\n",
       "      <th>21</th>\n",
       "      <th>22</th>\n",
       "      <th>23</th>\n",
       "      <th>24</th>\n",
       "      <th>25</th>\n",
       "    </tr>\n",
       "  </thead>\n",
       "  <tbody>\n",
       "    <tr>\n",
       "      <th>1</th>\n",
       "      <td>1963-64</td>\n",
       "      <td>$10,248</td>\n",
       "      <td>$10,561</td>\n",
       "      <td>$6,368</td>\n",
       "      <td>$4,174</td>\n",
       "      <td>$4,538</td>\n",
       "      <td>$1,406</td>\n",
       "      <td>$2,319</td>\n",
       "      <td>$2,288</td>\n",
       "      <td>$1,717</td>\n",
       "      <td>...</td>\n",
       "      <td>$775</td>\n",
       "      <td>$508</td>\n",
       "      <td>$553</td>\n",
       "      <td>$171</td>\n",
       "      <td>$282</td>\n",
       "      <td>$279</td>\n",
       "      <td>$209</td>\n",
       "      <td>$457</td>\n",
       "      <td>$455</td>\n",
       "      <td>$395</td>\n",
       "    </tr>\n",
       "    <tr>\n",
       "      <th>2</th>\n",
       "      <td>1968-69</td>\n",
       "      <td>10,357</td>\n",
       "      <td>10,973</td>\n",
       "      <td>7,477</td>\n",
       "      <td>4,234</td>\n",
       "      <td>4,852</td>\n",
       "      <td>1,778</td>\n",
       "      <td>2,558</td>\n",
       "      <td>2,557</td>\n",
       "      <td>2,321</td>\n",
       "      <td>...</td>\n",
       "      <td>1,053</td>\n",
       "      <td>596</td>\n",
       "      <td>683</td>\n",
       "      <td>250</td>\n",
       "      <td>360</td>\n",
       "      <td>360</td>\n",
       "      <td>327</td>\n",
       "      <td>502</td>\n",
       "      <td>502</td>\n",
       "      <td>476</td>\n",
       "    </tr>\n",
       "    <tr>\n",
       "      <th>3</th>\n",
       "      <td>1969-70</td>\n",
       "      <td>10,460</td>\n",
       "      <td>11,227</td>\n",
       "      <td>7,304</td>\n",
       "      <td>4,325</td>\n",
       "      <td>5,062</td>\n",
       "      <td>1,659</td>\n",
       "      <td>2,610</td>\n",
       "      <td>2,627</td>\n",
       "      <td>2,326</td>\n",
       "      <td>...</td>\n",
       "      <td>1,089</td>\n",
       "      <td>645</td>\n",
       "      <td>755</td>\n",
       "      <td>247</td>\n",
       "      <td>389</td>\n",
       "      <td>392</td>\n",
       "      <td>347</td>\n",
       "      <td>526</td>\n",
       "      <td>528</td>\n",
       "      <td>495</td>\n",
       "    </tr>\n",
       "    <tr>\n",
       "      <th>4</th>\n",
       "      <td>1970-71</td>\n",
       "      <td>10,537</td>\n",
       "      <td>11,376</td>\n",
       "      <td>7,143</td>\n",
       "      <td>4,387</td>\n",
       "      <td>5,188</td>\n",
       "      <td>1,590</td>\n",
       "      <td>2,670</td>\n",
       "      <td>2,690</td>\n",
       "      <td>2,355</td>\n",
       "      <td>...</td>\n",
       "      <td>1,120</td>\n",
       "      <td>688</td>\n",
       "      <td>814</td>\n",
       "      <td>249</td>\n",
       "      <td>419</td>\n",
       "      <td>422</td>\n",
       "      <td>369</td>\n",
       "      <td>546</td>\n",
       "      <td>549</td>\n",
       "      <td>501</td>\n",
       "    </tr>\n",
       "    <tr>\n",
       "      <th>5</th>\n",
       "      <td>1971-72</td>\n",
       "      <td>10,651</td>\n",
       "      <td>11,556</td>\n",
       "      <td>7,212</td>\n",
       "      <td>4,455</td>\n",
       "      <td>5,326</td>\n",
       "      <td>1,544</td>\n",
       "      <td>2,738</td>\n",
       "      <td>2,760</td>\n",
       "      <td>2,406</td>\n",
       "      <td>...</td>\n",
       "      <td>1,172</td>\n",
       "      <td>724</td>\n",
       "      <td>865</td>\n",
       "      <td>251</td>\n",
       "      <td>445</td>\n",
       "      <td>448</td>\n",
       "      <td>391</td>\n",
       "      <td>562</td>\n",
       "      <td>564</td>\n",
       "      <td>530</td>\n",
       "    </tr>\n",
       "    <tr>\n",
       "      <th>...</th>\n",
       "      <td>...</td>\n",
       "      <td>...</td>\n",
       "      <td>...</td>\n",
       "      <td>...</td>\n",
       "      <td>...</td>\n",
       "      <td>...</td>\n",
       "      <td>...</td>\n",
       "      <td>...</td>\n",
       "      <td>...</td>\n",
       "      <td>...</td>\n",
       "      <td>...</td>\n",
       "      <td>...</td>\n",
       "      <td>...</td>\n",
       "      <td>...</td>\n",
       "      <td>...</td>\n",
       "      <td>...</td>\n",
       "      <td>...</td>\n",
       "      <td>...</td>\n",
       "      <td>...</td>\n",
       "      <td>...</td>\n",
       "      <td>...</td>\n",
       "    </tr>\n",
       "    <tr>\n",
       "      <th>196</th>\n",
       "      <td>2014-15</td>\n",
       "      <td>25,011</td>\n",
       "      <td>24,908</td>\n",
       "      <td>27,426</td>\n",
       "      <td>14,951</td>\n",
       "      <td>14,901</td>\n",
       "      <td>15,255</td>\n",
       "      <td>6,202</td>\n",
       "      <td>6,204</td>\n",
       "      <td>6,185</td>\n",
       "      <td>...</td>\n",
       "      <td>25,629</td>\n",
       "      <td>13,972</td>\n",
       "      <td>13,924</td>\n",
       "      <td>14,256</td>\n",
       "      <td>5,796</td>\n",
       "      <td>5,798</td>\n",
       "      <td>5,780</td>\n",
       "      <td>3,605</td>\n",
       "      <td>3,554</td>\n",
       "      <td>5,594</td>\n",
       "    </tr>\n",
       "    <tr>\n",
       "      <th>197</th>\n",
       "      <td>2015-16</td>\n",
       "      <td>25,273</td>\n",
       "      <td>25,215</td>\n",
       "      <td>25,840</td>\n",
       "      <td>15,086</td>\n",
       "      <td>15,041</td>\n",
       "      <td>15,388</td>\n",
       "      <td>6,217</td>\n",
       "      <td>6,209</td>\n",
       "      <td>6,301</td>\n",
       "      <td>...</td>\n",
       "      <td>24,310</td>\n",
       "      <td>14,193</td>\n",
       "      <td>14,150</td>\n",
       "      <td>14,477</td>\n",
       "      <td>5,849</td>\n",
       "      <td>5,842</td>\n",
       "      <td>5,928</td>\n",
       "      <td>3,735</td>\n",
       "      <td>3,731</td>\n",
       "      <td>3,905</td>\n",
       "    </tr>\n",
       "    <tr>\n",
       "      <th>198</th>\n",
       "      <td>2016-17</td>\n",
       "      <td>26,543</td>\n",
       "      <td>26,648</td>\n",
       "      <td>26,121</td>\n",
       "      <td>15,050</td>\n",
       "      <td>15,053</td>\n",
       "      <td>15,028</td>\n",
       "      <td>7,190</td>\n",
       "      <td>7,302</td>\n",
       "      <td>6,563</td>\n",
       "      <td>...</td>\n",
       "      <td>25,027</td>\n",
       "      <td>14,419</td>\n",
       "      <td>14,423</td>\n",
       "      <td>14,399</td>\n",
       "      <td>6,889</td>\n",
       "      <td>6,996</td>\n",
       "      <td>6,288</td>\n",
       "      <td>4,123</td>\n",
       "      <td>4,113</td>\n",
       "      <td>4,340</td>\n",
       "    </tr>\n",
       "    <tr>\n",
       "      <th>199</th>\n",
       "      <td>2017-18</td>\n",
       "      <td>26,797</td>\n",
       "      <td>26,951</td>\n",
       "      <td>25,584</td>\n",
       "      <td>14,973</td>\n",
       "      <td>14,982</td>\n",
       "      <td>14,908</td>\n",
       "      <td>7,418</td>\n",
       "      <td>7,565</td>\n",
       "      <td>6,229</td>\n",
       "      <td>...</td>\n",
       "      <td>25,065</td>\n",
       "      <td>14,669</td>\n",
       "      <td>14,677</td>\n",
       "      <td>14,606</td>\n",
       "      <td>7,268</td>\n",
       "      <td>7,411</td>\n",
       "      <td>6,102</td>\n",
       "      <td>4,317</td>\n",
       "      <td>4,315</td>\n",
       "      <td>4,357</td>\n",
       "    </tr>\n",
       "    <tr>\n",
       "      <th>200</th>\n",
       "      <td>2018-19</td>\n",
       "      <td>27,040</td>\n",
       "      <td>26,575</td>\n",
       "      <td>30,052</td>\n",
       "      <td>14,780</td>\n",
       "      <td>14,715</td>\n",
       "      <td>15,360</td>\n",
       "      <td>7,118</td>\n",
       "      <td>7,410</td>\n",
       "      <td>5,305</td>\n",
       "      <td>...</td>\n",
       "      <td>30,052</td>\n",
       "      <td>14,780</td>\n",
       "      <td>14,715</td>\n",
       "      <td>15,360</td>\n",
       "      <td>7,118</td>\n",
       "      <td>7,410</td>\n",
       "      <td>5,305</td>\n",
       "      <td>5,143</td>\n",
       "      <td>4,450</td>\n",
       "      <td>9,387</td>\n",
       "    </tr>\n",
       "  </tbody>\n",
       "</table>\n",
       "<p>200 rows × 25 columns</p>\n",
       "</div>"
      ],
      "text/plain": [
       "                1        2        3       4       5       6       7       8  \\\n",
       "1        1963-64   $10,248  $10,561  $6,368  $4,174  $4,538  $1,406  $2,319   \n",
       "2        1968-69    10,357   10,973   7,477   4,234   4,852   1,778   2,558   \n",
       "3        1969-70    10,460   11,227   7,304   4,325   5,062   1,659   2,610   \n",
       "4        1970-71    10,537   11,376   7,143   4,387   5,188   1,590   2,670   \n",
       "5        1971-72    10,651   11,556   7,212   4,455   5,326   1,544   2,738   \n",
       "..            ...      ...      ...     ...     ...     ...     ...     ...   \n",
       "196      2014-15    25,011   24,908  27,426  14,951  14,901  15,255   6,202   \n",
       "197      2015-16    25,273   25,215  25,840  15,086  15,041  15,388   6,217   \n",
       "198      2016-17    26,543   26,648  26,121  15,050  15,053  15,028   7,190   \n",
       "199      2017-18    26,797   26,951  25,584  14,973  14,982  14,908   7,418   \n",
       "200      2018-19    27,040   26,575  30,052  14,780  14,715  15,360   7,118   \n",
       "\n",
       "          9      10  ...      16      17      18      19     20     21     22  \\\n",
       "1    $2,288  $1,717  ...    $775    $508    $553    $171   $282   $279   $209   \n",
       "2     2,557   2,321  ...   1,053     596     683     250    360    360    327   \n",
       "3     2,627   2,326  ...   1,089     645     755     247    389    392    347   \n",
       "4     2,690   2,355  ...   1,120     688     814     249    419    422    369   \n",
       "5     2,760   2,406  ...   1,172     724     865     251    445    448    391   \n",
       "..      ...     ...  ...     ...     ...     ...     ...    ...    ...    ...   \n",
       "196   6,204   6,185  ...  25,629  13,972  13,924  14,256  5,796  5,798  5,780   \n",
       "197   6,209   6,301  ...  24,310  14,193  14,150  14,477  5,849  5,842  5,928   \n",
       "198   7,302   6,563  ...  25,027  14,419  14,423  14,399  6,889  6,996  6,288   \n",
       "199   7,565   6,229  ...  25,065  14,669  14,677  14,606  7,268  7,411  6,102   \n",
       "200   7,410   5,305  ...  30,052  14,780  14,715  15,360  7,118  7,410  5,305   \n",
       "\n",
       "        23     24     25  \n",
       "1     $457   $455   $395  \n",
       "2      502    502    476  \n",
       "3      526    528    495  \n",
       "4      546    549    501  \n",
       "5      562    564    530  \n",
       "..     ...    ...    ...  \n",
       "196  3,605  3,554  5,594  \n",
       "197  3,735  3,731  3,905  \n",
       "198  4,123  4,113  4,340  \n",
       "199  4,317  4,315  4,357  \n",
       "200  5,143  4,450  9,387  \n",
       "\n",
       "[200 rows x 25 columns]"
      ]
     },
     "execution_count": 14,
     "metadata": {},
     "output_type": "execute_result"
    }
   ],
   "source": [
    "data.drop(0)"
   ]
  },
  {
   "cell_type": "code",
   "execution_count": 15,
   "id": "7e98f0d8",
   "metadata": {},
   "outputs": [
    {
     "data": {
      "text/plain": [
       "Index(['1', '2', '3', '4', '5', '6', '7', '8', '9', '10', '11', '12', '13',\n",
       "       '14', '15', '16', '17', '18', '19', '20', '21', '22', '23', '24', '25'],\n",
       "      dtype='object')"
      ]
     },
     "execution_count": 15,
     "metadata": {},
     "output_type": "execute_result"
    }
   ],
   "source": [
    "data.columns"
   ]
  },
  {
   "cell_type": "code",
   "execution_count": 17,
   "id": "3859ede0",
   "metadata": {},
   "outputs": [
    {
     "data": {
      "text/html": [
       "<div>\n",
       "<style scoped>\n",
       "    .dataframe tbody tr th:only-of-type {\n",
       "        vertical-align: middle;\n",
       "    }\n",
       "\n",
       "    .dataframe tbody tr th {\n",
       "        vertical-align: top;\n",
       "    }\n",
       "\n",
       "    .dataframe thead th {\n",
       "        text-align: right;\n",
       "    }\n",
       "</style>\n",
       "<table border=\"1\" class=\"dataframe\">\n",
       "  <thead>\n",
       "    <tr style=\"text-align: right;\">\n",
       "      <th></th>\n",
       "      <th>1</th>\n",
       "      <th>2</th>\n",
       "      <th>3</th>\n",
       "    </tr>\n",
       "  </thead>\n",
       "  <tbody>\n",
       "    <tr>\n",
       "      <th>0</th>\n",
       "      <td>All institutions</td>\n",
       "      <td>NaN</td>\n",
       "      <td>NaN</td>\n",
       "    </tr>\n",
       "    <tr>\n",
       "      <th>1</th>\n",
       "      <td>1963-64</td>\n",
       "      <td>$10,248</td>\n",
       "      <td>$10,561</td>\n",
       "    </tr>\n",
       "    <tr>\n",
       "      <th>2</th>\n",
       "      <td>1968-69</td>\n",
       "      <td>10,357</td>\n",
       "      <td>10,973</td>\n",
       "    </tr>\n",
       "    <tr>\n",
       "      <th>3</th>\n",
       "      <td>1969-70</td>\n",
       "      <td>10,460</td>\n",
       "      <td>11,227</td>\n",
       "    </tr>\n",
       "    <tr>\n",
       "      <th>4</th>\n",
       "      <td>1970-71</td>\n",
       "      <td>10,537</td>\n",
       "      <td>11,376</td>\n",
       "    </tr>\n",
       "    <tr>\n",
       "      <th>5</th>\n",
       "      <td>1971-72</td>\n",
       "      <td>10,651</td>\n",
       "      <td>11,556</td>\n",
       "    </tr>\n",
       "    <tr>\n",
       "      <th>6</th>\n",
       "      <td>1972-73</td>\n",
       "      <td>10,853</td>\n",
       "      <td>12,015</td>\n",
       "    </tr>\n",
       "    <tr>\n",
       "      <th>7</th>\n",
       "      <td>1973-74</td>\n",
       "      <td>10,337</td>\n",
       "      <td>11,392</td>\n",
       "    </tr>\n",
       "    <tr>\n",
       "      <th>8</th>\n",
       "      <td>1974-75</td>\n",
       "      <td>9,698</td>\n",
       "      <td>10,693</td>\n",
       "    </tr>\n",
       "    <tr>\n",
       "      <th>9</th>\n",
       "      <td>1975-76</td>\n",
       "      <td>9,605</td>\n",
       "      <td>10,754</td>\n",
       "    </tr>\n",
       "  </tbody>\n",
       "</table>\n",
       "</div>"
      ],
      "text/plain": [
       "                  1        2        3\n",
       "0  All institutions      NaN      NaN\n",
       "1          1963-64   $10,248  $10,561\n",
       "2          1968-69    10,357   10,973\n",
       "3          1969-70    10,460   11,227\n",
       "4          1970-71    10,537   11,376\n",
       "5          1971-72    10,651   11,556\n",
       "6          1972-73    10,853   12,015\n",
       "7          1973-74    10,337   11,392\n",
       "8          1974-75     9,698   10,693\n",
       "9          1975-76     9,605   10,754"
      ]
     },
     "execution_count": 17,
     "metadata": {},
     "output_type": "execute_result"
    }
   ],
   "source": [
    "column_names = ['1', '2', '3']\n",
    "data[column_names].head(10)"
   ]
  },
  {
   "cell_type": "code",
   "execution_count": 18,
   "id": "fa77824a",
   "metadata": {},
   "outputs": [
    {
     "data": {
      "text/plain": [
       "1     1963-64 \n",
       "2      $10,248\n",
       "3      $10,561\n",
       "4       $6,368\n",
       "5       $4,174\n",
       "6       $4,538\n",
       "7       $1,406\n",
       "8       $2,319\n",
       "9       $2,288\n",
       "10      $1,717\n",
       "11      $3,756\n",
       "12      $3,736\n",
       "13      $3,244\n",
       "14      $1,248\n",
       "15      $1,286\n",
       "16        $775\n",
       "17        $508\n",
       "18        $553\n",
       "19        $171\n",
       "20        $282\n",
       "21        $279\n",
       "22        $209\n",
       "23        $457\n",
       "24        $455\n",
       "25        $395\n",
       "Name: 1, dtype: object"
      ]
     },
     "execution_count": 18,
     "metadata": {},
     "output_type": "execute_result"
    }
   ],
   "source": [
    "data.loc[1]"
   ]
  },
  {
   "cell_type": "code",
   "execution_count": 19,
   "id": "68c6feff",
   "metadata": {},
   "outputs": [
    {
     "data": {
      "text/plain": [
       "'$6,368'"
      ]
     },
     "execution_count": 19,
     "metadata": {},
     "output_type": "execute_result"
    }
   ],
   "source": [
    "data.loc[1][3]"
   ]
  },
  {
   "cell_type": "code",
   "execution_count": 28,
   "id": "73156a93",
   "metadata": {},
   "outputs": [],
   "source": [
    "data['2'] = data['2'].apply(cast_to_numeric)"
   ]
  },
  {
   "cell_type": "code",
   "execution_count": 29,
   "id": "6b6b40f2",
   "metadata": {},
   "outputs": [
    {
     "data": {
      "text/plain": [
       "20803.918367346938"
      ]
     },
     "execution_count": 29,
     "metadata": {},
     "output_type": "execute_result"
    }
   ],
   "source": [
    "data['2'].mean()"
   ]
  },
  {
   "cell_type": "code",
   "execution_count": 30,
   "id": "56d6526c",
   "metadata": {},
   "outputs": [
    {
     "data": {
      "text/plain": [
       "4077568.0"
      ]
     },
     "execution_count": 30,
     "metadata": {},
     "output_type": "execute_result"
    }
   ],
   "source": [
    "data['2'].sum()"
   ]
  },
  {
   "cell_type": "code",
   "execution_count": 31,
   "id": "0037c7a4",
   "metadata": {},
   "outputs": [
    {
     "data": {
      "text/plain": [
       "6939.0"
      ]
     },
     "execution_count": 31,
     "metadata": {},
     "output_type": "execute_result"
    }
   ],
   "source": [
    "data['2'].min()"
   ]
  },
  {
   "cell_type": "code",
   "execution_count": 32,
   "id": "301a402e",
   "metadata": {},
   "outputs": [],
   "source": [
    "columns_to_change = ['2', '3', '4', '5', '6', '7', '8', '9', '10', '11', '12', '13',\n",
    "       '14', '15', '16', '17', '18', '19', '20', '21', '22', '23', '24', '25']\n",
    "\n",
    "for column in columns_to_change:\n",
    "    data[column] = data[column].apply(cast_to_numeric)"
   ]
  },
  {
   "cell_type": "markdown",
   "id": "2bd5fad2",
   "metadata": {},
   "source": [
    "## General Plan"
   ]
  },
  {
   "cell_type": "code",
   "execution_count": 344,
   "id": "6c368e4f",
   "metadata": {},
   "outputs": [],
   "source": [
    "import matplotlib.pyplot as plt\n",
    "import numpy as np"
   ]
  },
  {
   "cell_type": "code",
   "execution_count": 224,
   "id": "1305c961",
   "metadata": {},
   "outputs": [],
   "source": [
    "Bachelor_Salary = pd.read_csv('../Data/Bachelors_Weekly_Salary.csv', skiprows = 19)"
   ]
  },
  {
   "cell_type": "code",
   "execution_count": 188,
   "id": "7e724b8f",
   "metadata": {
    "scrolled": true
   },
   "outputs": [],
   "source": [
    "Cost_Data = pd.read_csv('../Data/Cost_of_College_2020.csv', skiprows=57, nrows = 148)"
   ]
  },
  {
   "cell_type": "code",
   "execution_count": 223,
   "id": "d82496f3",
   "metadata": {},
   "outputs": [],
   "source": [
    "Assoc_Salary = pd.read_csv('../Data/Associate_degree_money_made.csv', skiprows=19)"
   ]
  },
  {
   "cell_type": "code",
   "execution_count": 155,
   "id": "db4a45e7",
   "metadata": {},
   "outputs": [
    {
     "data": {
      "text/html": [
       "<div>\n",
       "<style scoped>\n",
       "    .dataframe tbody tr th:only-of-type {\n",
       "        vertical-align: middle;\n",
       "    }\n",
       "\n",
       "    .dataframe tbody tr th {\n",
       "        vertical-align: top;\n",
       "    }\n",
       "\n",
       "    .dataframe thead th {\n",
       "        text-align: right;\n",
       "    }\n",
       "</style>\n",
       "<table border=\"1\" class=\"dataframe\">\n",
       "  <thead>\n",
       "    <tr style=\"text-align: right;\">\n",
       "      <th></th>\n",
       "      <th>Qtr1</th>\n",
       "      <th>Qtr2</th>\n",
       "      <th>Qtr3</th>\n",
       "      <th>Qtr4</th>\n",
       "    </tr>\n",
       "  </thead>\n",
       "  <tbody>\n",
       "    <tr>\n",
       "      <th>0</th>\n",
       "      <td>521</td>\n",
       "      <td>516</td>\n",
       "      <td>511.0</td>\n",
       "      <td>529.0</td>\n",
       "    </tr>\n",
       "    <tr>\n",
       "      <th>1</th>\n",
       "      <td>533</td>\n",
       "      <td>528</td>\n",
       "      <td>521.0</td>\n",
       "      <td>525.0</td>\n",
       "    </tr>\n",
       "    <tr>\n",
       "      <th>2</th>\n",
       "      <td>521</td>\n",
       "      <td>527</td>\n",
       "      <td>531.0</td>\n",
       "      <td>531.0</td>\n",
       "    </tr>\n",
       "    <tr>\n",
       "      <th>3</th>\n",
       "      <td>526</td>\n",
       "      <td>536</td>\n",
       "      <td>533.0</td>\n",
       "      <td>531.0</td>\n",
       "    </tr>\n",
       "    <tr>\n",
       "      <th>4</th>\n",
       "      <td>527</td>\n",
       "      <td>535</td>\n",
       "      <td>543.0</td>\n",
       "      <td>545.0</td>\n",
       "    </tr>\n",
       "    <tr>\n",
       "      <th>5</th>\n",
       "      <td>568</td>\n",
       "      <td>555</td>\n",
       "      <td>555.0</td>\n",
       "      <td>569.0</td>\n",
       "    </tr>\n",
       "    <tr>\n",
       "      <th>6</th>\n",
       "      <td>581</td>\n",
       "      <td>581</td>\n",
       "      <td>580.0</td>\n",
       "      <td>579.0</td>\n",
       "    </tr>\n",
       "    <tr>\n",
       "      <th>7</th>\n",
       "      <td>592</td>\n",
       "      <td>588</td>\n",
       "      <td>596.0</td>\n",
       "      <td>606.0</td>\n",
       "    </tr>\n",
       "    <tr>\n",
       "      <th>8</th>\n",
       "      <td>603</td>\n",
       "      <td>612</td>\n",
       "      <td>619.0</td>\n",
       "      <td>619.0</td>\n",
       "    </tr>\n",
       "    <tr>\n",
       "      <th>9</th>\n",
       "      <td>622</td>\n",
       "      <td>660</td>\n",
       "      <td>663.0</td>\n",
       "      <td>650.0</td>\n",
       "    </tr>\n",
       "  </tbody>\n",
       "</table>\n",
       "</div>"
      ],
      "text/plain": [
       "   Qtr1  Qtr2   Qtr3   Qtr4\n",
       "0   521   516  511.0  529.0\n",
       "1   533   528  521.0  525.0\n",
       "2   521   527  531.0  531.0\n",
       "3   526   536  533.0  531.0\n",
       "4   527   535  543.0  545.0\n",
       "5   568   555  555.0  569.0\n",
       "6   581   581  580.0  579.0\n",
       "7   592   588  596.0  606.0\n",
       "8   603   612  619.0  619.0\n",
       "9   622   660  663.0  650.0"
      ]
     },
     "execution_count": 155,
     "metadata": {},
     "output_type": "execute_result"
    }
   ],
   "source": [
    "Assoc_Column_Names = ['Qtr1', 'Qtr2', 'Qtr3', 'Qtr4']\n",
    "Assoc_Salary[Assoc_Column_Names].head(10)"
   ]
  },
  {
   "cell_type": "code",
   "execution_count": 157,
   "id": "85ed0ddb",
   "metadata": {},
   "outputs": [
    {
     "data": {
      "text/html": [
       "<div>\n",
       "<style scoped>\n",
       "    .dataframe tbody tr th:only-of-type {\n",
       "        vertical-align: middle;\n",
       "    }\n",
       "\n",
       "    .dataframe tbody tr th {\n",
       "        vertical-align: top;\n",
       "    }\n",
       "\n",
       "    .dataframe thead th {\n",
       "        text-align: right;\n",
       "    }\n",
       "</style>\n",
       "<table border=\"1\" class=\"dataframe\">\n",
       "  <thead>\n",
       "    <tr style=\"text-align: right;\">\n",
       "      <th></th>\n",
       "      <th>Qtr1</th>\n",
       "      <th>Qtr2</th>\n",
       "      <th>Qtr3</th>\n",
       "      <th>Qtr4</th>\n",
       "    </tr>\n",
       "  </thead>\n",
       "  <tbody>\n",
       "    <tr>\n",
       "      <th>0</th>\n",
       "      <td>521</td>\n",
       "      <td>516</td>\n",
       "      <td>511.0</td>\n",
       "      <td>529.0</td>\n",
       "    </tr>\n",
       "    <tr>\n",
       "      <th>1</th>\n",
       "      <td>533</td>\n",
       "      <td>528</td>\n",
       "      <td>521.0</td>\n",
       "      <td>525.0</td>\n",
       "    </tr>\n",
       "    <tr>\n",
       "      <th>2</th>\n",
       "      <td>521</td>\n",
       "      <td>527</td>\n",
       "      <td>531.0</td>\n",
       "      <td>531.0</td>\n",
       "    </tr>\n",
       "    <tr>\n",
       "      <th>3</th>\n",
       "      <td>526</td>\n",
       "      <td>536</td>\n",
       "      <td>533.0</td>\n",
       "      <td>531.0</td>\n",
       "    </tr>\n",
       "    <tr>\n",
       "      <th>4</th>\n",
       "      <td>527</td>\n",
       "      <td>535</td>\n",
       "      <td>543.0</td>\n",
       "      <td>545.0</td>\n",
       "    </tr>\n",
       "    <tr>\n",
       "      <th>5</th>\n",
       "      <td>568</td>\n",
       "      <td>555</td>\n",
       "      <td>555.0</td>\n",
       "      <td>569.0</td>\n",
       "    </tr>\n",
       "    <tr>\n",
       "      <th>6</th>\n",
       "      <td>581</td>\n",
       "      <td>581</td>\n",
       "      <td>580.0</td>\n",
       "      <td>579.0</td>\n",
       "    </tr>\n",
       "    <tr>\n",
       "      <th>7</th>\n",
       "      <td>592</td>\n",
       "      <td>588</td>\n",
       "      <td>596.0</td>\n",
       "      <td>606.0</td>\n",
       "    </tr>\n",
       "    <tr>\n",
       "      <th>8</th>\n",
       "      <td>603</td>\n",
       "      <td>612</td>\n",
       "      <td>619.0</td>\n",
       "      <td>619.0</td>\n",
       "    </tr>\n",
       "    <tr>\n",
       "      <th>9</th>\n",
       "      <td>622</td>\n",
       "      <td>660</td>\n",
       "      <td>663.0</td>\n",
       "      <td>650.0</td>\n",
       "    </tr>\n",
       "    <tr>\n",
       "      <th>10</th>\n",
       "      <td>649</td>\n",
       "      <td>661</td>\n",
       "      <td>NaN</td>\n",
       "      <td>NaN</td>\n",
       "    </tr>\n",
       "  </tbody>\n",
       "</table>\n",
       "</div>"
      ],
      "text/plain": [
       "    Qtr1  Qtr2   Qtr3   Qtr4\n",
       "0    521   516  511.0  529.0\n",
       "1    533   528  521.0  525.0\n",
       "2    521   527  531.0  531.0\n",
       "3    526   536  533.0  531.0\n",
       "4    527   535  543.0  545.0\n",
       "5    568   555  555.0  569.0\n",
       "6    581   581  580.0  579.0\n",
       "7    592   588  596.0  606.0\n",
       "8    603   612  619.0  619.0\n",
       "9    622   660  663.0  650.0\n",
       "10   649   661    NaN    NaN"
      ]
     },
     "execution_count": 157,
     "metadata": {},
     "output_type": "execute_result"
    }
   ],
   "source": [
    "Assoc_Salary = Assoc_Salary[Assoc_Column_Names]\n",
    "Assoc_Salary"
   ]
  },
  {
   "cell_type": "code",
   "execution_count": 162,
   "id": "83e052eb",
   "metadata": {},
   "outputs": [
    {
     "data": {
      "text/html": [
       "<div>\n",
       "<style scoped>\n",
       "    .dataframe tbody tr th:only-of-type {\n",
       "        vertical-align: middle;\n",
       "    }\n",
       "\n",
       "    .dataframe tbody tr th {\n",
       "        vertical-align: top;\n",
       "    }\n",
       "\n",
       "    .dataframe thead th {\n",
       "        text-align: right;\n",
       "    }\n",
       "</style>\n",
       "<table border=\"1\" class=\"dataframe\">\n",
       "  <thead>\n",
       "    <tr style=\"text-align: right;\">\n",
       "      <th></th>\n",
       "      <th>Qtr1</th>\n",
       "      <th>Qtr2</th>\n",
       "      <th>Qtr3</th>\n",
       "      <th>Qtr4</th>\n",
       "    </tr>\n",
       "  </thead>\n",
       "  <tbody>\n",
       "    <tr>\n",
       "      <th>0</th>\n",
       "      <td>521</td>\n",
       "      <td>516</td>\n",
       "      <td>511.0</td>\n",
       "      <td>529.0</td>\n",
       "    </tr>\n",
       "    <tr>\n",
       "      <th>1</th>\n",
       "      <td>533</td>\n",
       "      <td>528</td>\n",
       "      <td>521.0</td>\n",
       "      <td>525.0</td>\n",
       "    </tr>\n",
       "    <tr>\n",
       "      <th>2</th>\n",
       "      <td>521</td>\n",
       "      <td>527</td>\n",
       "      <td>531.0</td>\n",
       "      <td>531.0</td>\n",
       "    </tr>\n",
       "    <tr>\n",
       "      <th>3</th>\n",
       "      <td>526</td>\n",
       "      <td>536</td>\n",
       "      <td>533.0</td>\n",
       "      <td>531.0</td>\n",
       "    </tr>\n",
       "    <tr>\n",
       "      <th>4</th>\n",
       "      <td>527</td>\n",
       "      <td>535</td>\n",
       "      <td>543.0</td>\n",
       "      <td>545.0</td>\n",
       "    </tr>\n",
       "    <tr>\n",
       "      <th>5</th>\n",
       "      <td>568</td>\n",
       "      <td>555</td>\n",
       "      <td>555.0</td>\n",
       "      <td>569.0</td>\n",
       "    </tr>\n",
       "    <tr>\n",
       "      <th>6</th>\n",
       "      <td>581</td>\n",
       "      <td>581</td>\n",
       "      <td>580.0</td>\n",
       "      <td>579.0</td>\n",
       "    </tr>\n",
       "    <tr>\n",
       "      <th>7</th>\n",
       "      <td>592</td>\n",
       "      <td>588</td>\n",
       "      <td>596.0</td>\n",
       "      <td>606.0</td>\n",
       "    </tr>\n",
       "    <tr>\n",
       "      <th>8</th>\n",
       "      <td>603</td>\n",
       "      <td>612</td>\n",
       "      <td>619.0</td>\n",
       "      <td>619.0</td>\n",
       "    </tr>\n",
       "    <tr>\n",
       "      <th>9</th>\n",
       "      <td>622</td>\n",
       "      <td>660</td>\n",
       "      <td>663.0</td>\n",
       "      <td>650.0</td>\n",
       "    </tr>\n",
       "  </tbody>\n",
       "</table>\n",
       "</div>"
      ],
      "text/plain": [
       "   Qtr1  Qtr2   Qtr3   Qtr4\n",
       "0   521   516  511.0  529.0\n",
       "1   533   528  521.0  525.0\n",
       "2   521   527  531.0  531.0\n",
       "3   526   536  533.0  531.0\n",
       "4   527   535  543.0  545.0\n",
       "5   568   555  555.0  569.0\n",
       "6   581   581  580.0  579.0\n",
       "7   592   588  596.0  606.0\n",
       "8   603   612  619.0  619.0\n",
       "9   622   660  663.0  650.0"
      ]
     },
     "execution_count": 162,
     "metadata": {},
     "output_type": "execute_result"
    }
   ],
   "source": [
    "Assoc_Salary.dropna()"
   ]
  },
  {
   "cell_type": "code",
   "execution_count": 163,
   "id": "d102e21d",
   "metadata": {},
   "outputs": [
    {
     "data": {
      "text/plain": [
       "Qtr1    6243.0\n",
       "Qtr2    6299.0\n",
       "Qtr3    5652.0\n",
       "Qtr4    5684.0\n",
       "dtype: float64"
      ]
     },
     "execution_count": 163,
     "metadata": {},
     "output_type": "execute_result"
    }
   ],
   "source": [
    "Assoc_Salary.sum()"
   ]
  },
  {
   "cell_type": "code",
   "execution_count": 175,
   "id": "724358b8",
   "metadata": {},
   "outputs": [],
   "source": [
    "practice_rows = Assoc_Salary.head(1)"
   ]
  },
  {
   "cell_type": "markdown",
   "id": "e599c428",
   "metadata": {},
   "source": [
    "df['Yearly Salary'] = (('Qtr1' + 'Qtr2' + ' Qtr3' + 'Qtr4') / 4 * 52)"
   ]
  },
  {
   "cell_type": "code",
   "execution_count": 338,
   "id": "8c8be18a",
   "metadata": {},
   "outputs": [
    {
     "data": {
      "text/plain": [
       "<AxesSubplot:xlabel='Year', ylabel='Qtr1'>"
      ]
     },
     "execution_count": 338,
     "metadata": {},
     "output_type": "execute_result"
    },
    {
     "data": {
      "image/png": "[encoded data removed]",
      "text/plain": [
       "<Figure size 432x288 with 1 Axes>"
      ]
     },
     "metadata": {
      "needs_background": "light"
     },
     "output_type": "display_data"
    }
   ],
   "source": [
    "Assoc_Salary.plot.scatter(x = 'Year',\n",
    "                          y = 'Qtr1')"
   ]
  },
  {
   "cell_type": "code",
   "execution_count": 199,
   "id": "4a8eab37",
   "metadata": {},
   "outputs": [
    {
     "data": {
      "text/plain": [
       "<AxesSubplot:>"
      ]
     },
     "execution_count": 199,
     "metadata": {},
     "output_type": "execute_result"
    },
    {
     "data": {
      "image/png": "[encoded data removed]",
      "text/plain": [
       "<Figure size 432x288 with 1 Axes>"
      ]
     },
     "metadata": {
      "needs_background": "light"
     },
     "output_type": "display_data"
    }
   ],
   "source": [
    "Assoc_Salary.Qtr1.hist(bins = 4)"
   ]
  },
  {
   "cell_type": "code",
   "execution_count": 326,
   "id": "29398f57",
   "metadata": {},
   "outputs": [],
   "source": [
    "## Convert string to numbers\n",
    "def cast_to_numeric(string):\n",
    "    if type(string) == float:\n",
    "        return string\n",
    "    else:\n",
    "        string = string.replace(',', '').replace('$', '')\n",
    "        number = float(string)\n",
    "        return number"
   ]
  },
  {
   "cell_type": "code",
   "execution_count": 334,
   "id": "35d5ac30",
   "metadata": {},
   "outputs": [],
   "source": [
    "## Associate Yearly Salary\n",
    "Associate_Quarters_Total = Assoc_Salary['Qtr1'] + Assoc_Salary['Qtr2'] + Assoc_Salary['Qtr3'] + Assoc_Salary['Qtr4']\n",
    "Associate_Yearly_Salary = Associate_Quarters_Total / 4 * 52\n",
    "\n",
    "## Bachelor Yearly Salary\n",
    "Bachelor_Quarters_Total = Bachelor_Salary['Qtr1'] + Bachelor_Salary['Qtr2'] + Bachelor_Salary['Qtr3'] + Bachelor_Salary['Qtr4']\n",
    "Bachelor_Yearly_Salary = Bachelor_Quarters_Total / 4 * 52"
   ]
  },
  {
   "cell_type": "code",
   "execution_count": 351,
   "id": "b4ebad51",
   "metadata": {},
   "outputs": [],
   "source": [
    "## Cost of Associate Degree\n",
    "Associate_Cost_Data = pd.read_csv('../Data/Cost_of_College_2020.csv', skiprows=49, nrows = 9)\n",
    "Associate_Cost_Data['10,318'] = Associate_Cost_Data['10,318'].apply(cast_to_numeric)\n",
    "Total_Associate_Cost = Associate_Cost_Data['10,318'] * 4\n",
    "\n",
    "## Cost of Bachelor Degree\n",
    "Bachelor_Cost_Data = pd.read_csv('../Data/Cost_of_College_2020.csv', skiprows=49, nrows = 9)\n",
    "Bachelor_Cost_Data['25,682'] = Bachelor_Cost_Data['25,682'].apply(cast_to_numeric)\n",
    "Total_Bachelor_Cost = Bachelor_Cost_Data['25,682'] * 4"
   ]
  },
  {
   "cell_type": "code",
   "execution_count": 336,
   "id": "60690722",
   "metadata": {},
   "outputs": [],
   "source": [
    "## Years to pay off Associate degree\n",
    "AS_Years_Paid_Off = Total_Associate_Cost / Associate_Yearly_Salary\n",
    "\n",
    "## Years to pay off Bachelor degree\n",
    "BA_Years_Paid_Off = Total_Bachelor_Cost / Bachelor_Yearly_Salary"
   ]
  },
  {
   "cell_type": "markdown",
   "id": "05a8e49c",
   "metadata": {},
   "source": [
    "Inflation"
   ]
  },
  {
   "cell_type": "code",
   "execution_count": 341,
   "id": "34f0c931",
   "metadata": {},
   "outputs": [
    {
     "name": "stdout",
     "output_type": "stream",
     "text": [
      "18.78050884784967\n"
     ]
    }
   ],
   "source": [
    "Current_CPI = 261.582\n",
    "Past_CPI = 220.223\n",
    "Inflation_Rate = (Current_CPI - Past_CPI) / Past_CPI * 100\n",
    "print(Inflation_Rate)"
   ]
  },
  {
   "cell_type": "code",
   "execution_count": 354,
   "id": "f49a73ba",
   "metadata": {},
   "outputs": [
    {
     "data": {
      "image/png": "[encoded data removed]",
      "text/plain": [
       "<Figure size 432x288 with 1 Axes>"
      ]
     },
     "metadata": {
      "needs_background": "light"
     },
     "output_type": "display_data"
    }
   ],
   "source": [
    "## Associate vs Bachelor Costs each year\n",
    "labels = ['2011', '2012', '2013', '2014']\n",
    "Bar_Chart_Associate_Cost = ['42260', '42576', '43312', '44136']\n",
    "Bar_Chart_Bachelor_Cost = ['104040', '106164', '108164', '110460']\n",
    "\n",
    "##Bar_Chart_Associate_Cost = [Total_Associate_Cost]\n",
    "##Bar_Chart_Bachelor_Cost = [Total_Bachelor_Cost]\n",
    "\n",
    "x = np.arange(len(labels))\n",
    "width = 0.35\n",
    "\n",
    "fig, ax = plt.subplots()\n",
    "rects1 = ax.bar(x - width/2, Bar_Chart_Associate_Cost, width, label = 'Associate_Cost')\n",
    "rects2 = ax.bar(x + width/2, Bar_Chart_Bachelor_Cost, width, label = 'Bachelor Cost')\n",
    "\n",
    "ax.set_ylabel('Total Cost in US dollars (adjusted for inflation)')\n",
    "ax.set_title('Total Cost of Colleges')\n",
    "ax.set_xticks(x)\n",
    "ax.set_xticklabels(labels)\n",
    "ax.legend()\n",
    "\n",
    "ax.bar_label(rects1, padding=3)\n",
    "ax.bar_label(rects2, padding=3)\n",
    "\n",
    "fig.tight_layout()\n",
    "\n",
    "plt.show()"
   ]
  },
  {
   "cell_type": "code",
   "execution_count": null,
   "id": "d8218002",
   "metadata": {},
   "outputs": [],
   "source": []
  }
 ],
 "metadata": {
  "kernelspec": {
   "display_name": "Python 3",
   "language": "python",
   "name": "python3"
  },
  "language_info": {
   "codemirror_mode": {
    "name": "ipython",
    "version": 3
   },
   "file_extension": ".py",
   "mimetype": "text/x-python",
   "name": "python",
   "nbconvert_exporter": "python",
   "pygments_lexer": "ipython3",
   "version": "3.8.10"
  }
 },
 "nbformat": 4,
 "nbformat_minor": 5
}
